{
 "cells": [
  {
   "cell_type": "code",
   "execution_count": 1,
   "id": "7d133eeb",
   "metadata": {},
   "outputs": [],
   "source": [
    "import pandas as pd\n",
    "import numpy as np"
   ]
  },
  {
   "cell_type": "code",
   "execution_count": 2,
   "id": "82a8ff98",
   "metadata": {},
   "outputs": [
    {
     "name": "stdout",
     "output_type": "stream",
     "text": [
      "[2 3 8 4 5 6]\n"
     ]
    }
   ],
   "source": [
    "# Create a numpy array\n",
    "a = np.array([2,3,8,4,5,6])\n",
    "print(a)"
   ]
  },
  {
   "cell_type": "code",
   "execution_count": 3,
   "id": "3e6c1712",
   "metadata": {},
   "outputs": [
    {
     "name": "stdout",
     "output_type": "stream",
     "text": [
      "[1 3 5 7 9]\n"
     ]
    }
   ],
   "source": [
    "arr = np.arange(1, 11, 2)\n",
    "print(arr)"
   ]
  },
  {
   "cell_type": "code",
   "execution_count": 4,
   "id": "a11bd049",
   "metadata": {},
   "outputs": [
    {
     "name": "stdout",
     "output_type": "stream",
     "text": [
      "[[0. 0. 0.]\n",
      " [0. 0. 0.]\n",
      " [0. 0. 0.]]\n"
     ]
    }
   ],
   "source": [
    "zero = np.zeros((3,3))\n",
    "print(zero)"
   ]
  },
  {
   "cell_type": "code",
   "execution_count": 5,
   "id": "5bea8959",
   "metadata": {},
   "outputs": [
    {
     "data": {
      "text/plain": [
       "array([[1., 1., 1.],\n",
       "       [1., 1., 1.],\n",
       "       [1., 1., 1.]])"
      ]
     },
     "execution_count": 5,
     "metadata": {},
     "output_type": "execute_result"
    }
   ],
   "source": [
    "one = np.ones((3,3))\n",
    "one"
   ]
  },
  {
   "cell_type": "code",
   "execution_count": 6,
   "id": "580e03eb",
   "metadata": {},
   "outputs": [
    {
     "data": {
      "text/plain": [
       "array([[8, 8],\n",
       "       [8, 8]])"
      ]
     },
     "execution_count": 6,
     "metadata": {},
     "output_type": "execute_result"
    }
   ],
   "source": [
    "const_arr = np.full((2, 2), 8)\n",
    "const_arr"
   ]
  },
  {
   "cell_type": "code",
   "execution_count": 7,
   "id": "e8eef76d",
   "metadata": {},
   "outputs": [
    {
     "data": {
      "text/plain": [
       "array([[1., 0., 0., 0., 0.],\n",
       "       [0., 1., 0., 0., 0.],\n",
       "       [0., 0., 1., 0., 0.],\n",
       "       [0., 0., 0., 1., 0.],\n",
       "       [0., 0., 0., 0., 1.]])"
      ]
     },
     "execution_count": 7,
     "metadata": {},
     "output_type": "execute_result"
    }
   ],
   "source": [
    "iden = np.eye(5)\n",
    "iden"
   ]
  },
  {
   "cell_type": "code",
   "execution_count": 8,
   "id": "7053544f",
   "metadata": {},
   "outputs": [
    {
     "data": {
      "text/plain": [
       "array([[0.58940478, 0.98944537, 0.42832604, 0.6839942 ],\n",
       "       [0.6185364 , 0.63065839, 0.69341327, 0.01434439]])"
      ]
     },
     "execution_count": 8,
     "metadata": {},
     "output_type": "execute_result"
    }
   ],
   "source": [
    "ra = np.random.random((2, 4))\n",
    "ra"
   ]
  },
  {
   "cell_type": "code",
   "execution_count": 9,
   "id": "b116e1cb",
   "metadata": {},
   "outputs": [
    {
     "data": {
      "text/plain": [
       "(2, 4)"
      ]
     },
     "execution_count": 9,
     "metadata": {},
     "output_type": "execute_result"
    }
   ],
   "source": [
    "np.shape(ra)"
   ]
  },
  {
   "cell_type": "code",
   "execution_count": 10,
   "id": "f8c98c80",
   "metadata": {},
   "outputs": [
    {
     "name": "stdout",
     "output_type": "stream",
     "text": [
      "[[1 2]\n",
      " [3 4]\n",
      " [5 6]]\n"
     ]
    }
   ],
   "source": [
    "mat = np.array([[1, 2], [3, 4], [5, 6]])\n",
    "print(mat)"
   ]
  },
  {
   "cell_type": "code",
   "execution_count": 11,
   "id": "2000b7cf",
   "metadata": {},
   "outputs": [
    {
     "name": "stdout",
     "output_type": "stream",
     "text": [
      "4\n"
     ]
    }
   ],
   "source": [
    "print(mat[1,1])"
   ]
  },
  {
   "cell_type": "code",
   "execution_count": 12,
   "id": "42c810ed",
   "metadata": {},
   "outputs": [
    {
     "name": "stdout",
     "output_type": "stream",
     "text": [
      "[ 1.  2.  3.  4.  5.  6.  7.  8.  9. 10.]\n"
     ]
    }
   ],
   "source": [
    "dt_arr = np.arange(1, 11, dtype=np.float32)\n",
    "print(dt_arr)"
   ]
  },
  {
   "cell_type": "code",
   "execution_count": 13,
   "id": "3f56a076",
   "metadata": {},
   "outputs": [
    {
     "name": "stdout",
     "output_type": "stream",
     "text": [
      "(42+1j)\n"
     ]
    }
   ],
   "source": [
    "c = complex(42, 1)\n",
    "print(c)"
   ]
  },
  {
   "cell_type": "code",
   "execution_count": 14,
   "id": "8c7b686a",
   "metadata": {},
   "outputs": [
    {
     "name": "stdout",
     "output_type": "stream",
     "text": [
      "42.0 1.0\n"
     ]
    }
   ],
   "source": [
    "print(c.real, c.imag)"
   ]
  },
  {
   "cell_type": "code",
   "execution_count": 15,
   "id": "d7f1d12c",
   "metadata": {},
   "outputs": [
    {
     "name": "stdout",
     "output_type": "stream",
     "text": [
      "[ 1  2  3  4  5  6  7  8  9 10 11 12 13 14 15]\n"
     ]
    }
   ],
   "source": [
    "# manipulating array shaepes\n",
    "arr = np.arange(1, 16)\n",
    "print(arr)"
   ]
  },
  {
   "cell_type": "code",
   "execution_count": 16,
   "id": "4bff5652",
   "metadata": {},
   "outputs": [
    {
     "name": "stdout",
     "output_type": "stream",
     "text": [
      "[[ 1  2  3  4  5]\n",
      " [ 6  7  8  9 10]\n",
      " [11 12 13 14 15]]\n"
     ]
    }
   ],
   "source": [
    "new_arr = arr.reshape(3, 5)\n",
    "print(new_arr)"
   ]
  },
  {
   "cell_type": "code",
   "execution_count": 17,
   "id": "7b98101a",
   "metadata": {},
   "outputs": [],
   "source": [
    "a = [34, 43, 35, 45]"
   ]
  },
  {
   "cell_type": "code",
   "execution_count": 20,
   "id": "2da05684",
   "metadata": {},
   "outputs": [
    {
     "ename": "ValueError",
     "evalue": "all the input arrays must have same number of dimensions, but the array at index 0 has 2 dimension(s) and the array at index 1 has 1 dimension(s)",
     "output_type": "error",
     "traceback": [
      "\u001b[0;31m---------------------------------------------------------------------------\u001b[0m",
      "\u001b[0;31mValueError\u001b[0m                                Traceback (most recent call last)",
      "Cell \u001b[0;32mIn[20], line 1\u001b[0m\n\u001b[0;32m----> 1\u001b[0m new_arr \u001b[38;5;241m=\u001b[39m np\u001b[38;5;241m.\u001b[39mconcatenate((new_arr, a), axis\u001b[38;5;241m=\u001b[39m\u001b[38;5;241m1\u001b[39m)\n",
      "File \u001b[0;32m<__array_function__ internals>:200\u001b[0m, in \u001b[0;36mconcatenate\u001b[0;34m(*args, **kwargs)\u001b[0m\n",
      "\u001b[0;31mValueError\u001b[0m: all the input arrays must have same number of dimensions, but the array at index 0 has 2 dimension(s) and the array at index 1 has 1 dimension(s)"
     ]
    }
   ],
   "source": [
    "new_arr = np.concatenate((new_arr, a), axis=1)"
   ]
  },
  {
   "cell_type": "code",
   "execution_count": null,
   "id": "c222e7d0",
   "metadata": {},
   "outputs": [],
   "source": [
    "arr2 = new_arr.flatten()\n",
    "print(arr2)"
   ]
  },
  {
   "cell_type": "code",
   "execution_count": null,
   "id": "4546a997",
   "metadata": {},
   "outputs": [],
   "source": [
    "tra = new_arr.transpose()\n",
    "print(tra)"
   ]
  },
  {
   "cell_type": "code",
   "execution_count": null,
   "id": "2a515798",
   "metadata": {},
   "outputs": [],
   "source": [
    "(arr.resize(1, 15))\n",
    "print(arr)"
   ]
  },
  {
   "cell_type": "code",
   "execution_count": null,
   "id": "de27839c",
   "metadata": {},
   "outputs": [],
   "source": [
    "# horizontal stacking\n",
    "arr1 = np.arange(1, 10).reshape(3, 3)\n",
    "print(arr1)"
   ]
  },
  {
   "cell_type": "code",
   "execution_count": null,
   "id": "6b9b96c6",
   "metadata": {},
   "outputs": [],
   "source": [
    "arr2 = arr1*2\n",
    "print(arr2)"
   ]
  },
  {
   "cell_type": "code",
   "execution_count": null,
   "id": "84708f3e",
   "metadata": {},
   "outputs": [],
   "source": [
    "arr3 = np.hstack((arr1, arr2))\n",
    "print(arr3)"
   ]
  },
  {
   "cell_type": "code",
   "execution_count": null,
   "id": "852436f8",
   "metadata": {},
   "outputs": [],
   "source": [
    "arr4 = np.concatenate((arr1, arr2), axis=1)\n",
    "print(arr4)"
   ]
  },
  {
   "cell_type": "code",
   "execution_count": null,
   "id": "2dc15211",
   "metadata": {},
   "outputs": [],
   "source": [
    "arr5 = np.concatenate((arr1, arr2), axis=0)\n",
    "print(arr5)"
   ]
  },
  {
   "cell_type": "code",
   "execution_count": null,
   "id": "993f4dfd",
   "metadata": {},
   "outputs": [],
   "source": [
    "# Partitioning arrays\n",
    "arr = np.arange(1, 11).reshape(2, 5)\n",
    "print(arr)"
   ]
  },
  {
   "cell_type": "code",
   "execution_count": null,
   "id": "ed52bb62",
   "metadata": {},
   "outputs": [],
   "source": [
    "arr_hor_split = np.hsplit(arr, 5)\n",
    "print(arr_hor_split)"
   ]
  },
  {
   "cell_type": "code",
   "execution_count": null,
   "id": "ce4ed508",
   "metadata": {},
   "outputs": [],
   "source": [
    "arr_ver_split = np.vsplit(arr, 2)\n",
    "print(arr_ver_split)"
   ]
  },
  {
   "cell_type": "code",
   "execution_count": null,
   "id": "cc0c1278",
   "metadata": {},
   "outputs": [],
   "source": [
    "# Changing dtypes of np array\n",
    "arr = np.arange(1, 10).reshape(3, 3)\n",
    "print(arr)"
   ]
  },
  {
   "cell_type": "code",
   "execution_count": null,
   "id": "fd88c77d",
   "metadata": {},
   "outputs": [],
   "source": [
    "arr = arr.astype(float)\n",
    "print(arr)"
   ]
  },
  {
   "cell_type": "code",
   "execution_count": null,
   "id": "fe2222ed",
   "metadata": {},
   "outputs": [],
   "source": [
    "# Converting np arr to Python list\n",
    "arr = np.arange(1, 10)\n",
    "arr"
   ]
  },
  {
   "cell_type": "code",
   "execution_count": null,
   "id": "0accf4a8",
   "metadata": {},
   "outputs": [],
   "source": [
    "list1 = arr.tolist()\n",
    "print(list1)"
   ]
  },
  {
   "cell_type": "code",
   "execution_count": null,
   "id": "2e19e2f2",
   "metadata": {},
   "outputs": [],
   "source": [
    "# Numpy views and copies\n",
    "arr = np.arange(1, 26).reshape(5, 5)\n",
    "print(arr)"
   ]
  },
  {
   "cell_type": "code",
   "execution_count": null,
   "id": "4b55f43e",
   "metadata": {},
   "outputs": [],
   "source": [
    "# Deep Copy\n",
    "arr_copy = arr.copy()\n",
    "print(arr_copy)"
   ]
  },
  {
   "cell_type": "code",
   "execution_count": null,
   "id": "ede2100d",
   "metadata": {},
   "outputs": [],
   "source": [
    "arr_view = arr.view()\n",
    "print(arr_view)"
   ]
  },
  {
   "cell_type": "code",
   "execution_count": null,
   "id": "ce8e7ed7",
   "metadata": {},
   "outputs": [],
   "source": [
    "arr[1] = [-1, -2, -3, -4, -5]"
   ]
  },
  {
   "cell_type": "code",
   "execution_count": null,
   "id": "faac0825",
   "metadata": {},
   "outputs": [],
   "source": [
    "print(arr_copy)"
   ]
  },
  {
   "cell_type": "code",
   "execution_count": null,
   "id": "780be3d5",
   "metadata": {},
   "outputs": [],
   "source": [
    "print(arr_view)"
   ]
  },
  {
   "cell_type": "code",
   "execution_count": null,
   "id": "59546d30",
   "metadata": {},
   "outputs": [],
   "source": [
    "arr_flat = arr.flatten()"
   ]
  },
  {
   "cell_type": "code",
   "execution_count": null,
   "id": "8fd7c39c",
   "metadata": {},
   "outputs": [],
   "source": [
    "arr_flat[arr_flat>10]"
   ]
  },
  {
   "cell_type": "code",
   "execution_count": null,
   "id": "f3807256",
   "metadata": {},
   "outputs": [],
   "source": [
    "arr[arr>10]"
   ]
  },
  {
   "cell_type": "code",
   "execution_count": null,
   "id": "132ebbd3",
   "metadata": {},
   "outputs": [],
   "source": [
    "arr[[1,2]]"
   ]
  },
  {
   "cell_type": "code",
   "execution_count": null,
   "id": "0a15cec2",
   "metadata": {},
   "outputs": [],
   "source": [
    "# Pandas DataFrame"
   ]
  },
  {
   "cell_type": "code",
   "execution_count": null,
   "id": "101ca9c6",
   "metadata": {},
   "outputs": [],
   "source": [
    "df = pd.DataFrame()\n",
    "df.head()"
   ]
  },
  {
   "cell_type": "code",
   "execution_count": null,
   "id": "7b255317",
   "metadata": {},
   "outputs": [],
   "source": [
    "data = {'Name': ['Unknown', 'Money', 'Career', 'Love'],\n",
    "           'Age': [0, 2, 1000000000, 0]}\n",
    "df = pd.DataFrame(data)\n",
    "df"
   ]
  },
  {
   "cell_type": "code",
   "execution_count": null,
   "id": "a47ecd2f",
   "metadata": {},
   "outputs": [],
   "source": [
    "dic1 = {'Ajay':1, 'Vijay':2, 'Dhananjay':3}\n",
    "series = pd.Series(dic1)\n",
    "series"
   ]
  },
  {
   "cell_type": "code",
   "execution_count": null,
   "id": "ae669779",
   "metadata": {},
   "outputs": [],
   "source": []
  }
 ],
 "metadata": {
  "kernelspec": {
   "display_name": "Python 3 (ipykernel)",
   "language": "python",
   "name": "python3"
  },
  "language_info": {
   "codemirror_mode": {
    "name": "ipython",
    "version": 3
   },
   "file_extension": ".py",
   "mimetype": "text/x-python",
   "name": "python",
   "nbconvert_exporter": "python",
   "pygments_lexer": "ipython3",
   "version": "3.11.5"
  },
  "toc": {
   "base_numbering": 1,
   "nav_menu": {},
   "number_sections": true,
   "sideBar": true,
   "skip_h1_title": false,
   "title_cell": "Table of Contents",
   "title_sidebar": "Contents",
   "toc_cell": false,
   "toc_position": {},
   "toc_section_display": true,
   "toc_window_display": false
  },
  "varInspector": {
   "cols": {
    "lenName": 16,
    "lenType": 16,
    "lenVar": 40
   },
   "kernels_config": {
    "python": {
     "delete_cmd_postfix": "",
     "delete_cmd_prefix": "del ",
     "library": "var_list.py",
     "varRefreshCmd": "print(var_dic_list())"
    },
    "r": {
     "delete_cmd_postfix": ") ",
     "delete_cmd_prefix": "rm(",
     "library": "var_list.r",
     "varRefreshCmd": "cat(var_dic_list()) "
    }
   },
   "types_to_exclude": [
    "module",
    "function",
    "builtin_function_or_method",
    "instance",
    "_Feature"
   ],
   "window_display": false
  }
 },
 "nbformat": 4,
 "nbformat_minor": 5
}
