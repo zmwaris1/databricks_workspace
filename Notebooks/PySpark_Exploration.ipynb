{
 "cells": [
  {
   "cell_type": "code",
   "execution_count": 1,
   "id": "4093502c",
   "metadata": {},
   "outputs": [],
   "source": [
    "from pyspark.sql import SparkSession"
   ]
  },
  {
   "cell_type": "code",
   "execution_count": 2,
   "id": "68bce073",
   "metadata": {},
   "outputs": [
    {
     "name": "stderr",
     "output_type": "stream",
     "text": [
      "Setting default log level to \"WARN\".\n",
      "To adjust logging level use sc.setLogLevel(newLevel). For SparkR, use setLogLevel(newLevel).\n",
      "23/10/07 14:46:32 WARN NativeCodeLoader: Unable to load native-hadoop library for your platform... using builtin-java classes where applicable\n"
     ]
    }
   ],
   "source": [
    "spark = SparkSession.builder.getOrCreate()"
   ]
  },
  {
   "cell_type": "code",
   "execution_count": 3,
   "id": "82dea091",
   "metadata": {},
   "outputs": [],
   "source": [
    "from datetime import datetime, date\n",
    "import pandas as pd\n",
    "from pyspark.sql import Row"
   ]
  },
  {
   "cell_type": "code",
   "execution_count": 6,
   "id": "9079083d",
   "metadata": {},
   "outputs": [
    {
     "data": {
      "text/plain": [
       "DataFrame[a: bigint, b: bigint, c: string, d: date, e: timestamp]"
      ]
     },
     "execution_count": 6,
     "metadata": {},
     "output_type": "execute_result"
    }
   ],
   "source": [
    "df = spark.createDataFrame([\n",
    "    Row(a=1, b=2, c='str1', d=date(2023, 1, 1), e=datetime(2023, 1, 1, 12, 0)),\n",
    "    Row(a=2, b=3, c='str2', d=date(2023, 1, 2), e=datetime(2023, 1, 2, 12, 0)),\n",
    "    Row(a=3, b=4, c='str3', d=date(2023, 1, 3), e=datetime(2023, 1, 3, 12, 0))]\n",
    ")\n",
    "df"
   ]
  },
  {
   "cell_type": "code",
   "execution_count": 7,
   "id": "5c8fd543",
   "metadata": {},
   "outputs": [
    {
     "name": "stderr",
     "output_type": "stream",
     "text": [
      "                                                                                \r"
     ]
    },
    {
     "name": "stdout",
     "output_type": "stream",
     "text": [
      "+---+---+----+----------+-------------------+\n",
      "|  a|  b|   c|         d|                  e|\n",
      "+---+---+----+----------+-------------------+\n",
      "|  1|  2|str1|2023-01-01|2023-01-01 12:00:00|\n",
      "|  2|  3|str2|2023-01-02|2023-01-02 12:00:00|\n",
      "|  3|  4|str3|2023-01-03|2023-01-03 12:00:00|\n",
      "+---+---+----+----------+-------------------+\n",
      "\n"
     ]
    }
   ],
   "source": [
    "df.show()"
   ]
  },
  {
   "cell_type": "code",
   "execution_count": 9,
   "id": "b70fe43a",
   "metadata": {},
   "outputs": [
    {
     "data": {
      "text/html": [
       "<div>\n",
       "<style scoped>\n",
       "    .dataframe tbody tr th:only-of-type {\n",
       "        vertical-align: middle;\n",
       "    }\n",
       "\n",
       "    .dataframe tbody tr th {\n",
       "        vertical-align: top;\n",
       "    }\n",
       "\n",
       "    .dataframe thead th {\n",
       "        text-align: right;\n",
       "    }\n",
       "</style>\n",
       "<table border=\"1\" class=\"dataframe\">\n",
       "  <thead>\n",
       "    <tr style=\"text-align: right;\">\n",
       "      <th></th>\n",
       "      <th>a</th>\n",
       "      <th>b</th>\n",
       "      <th>d</th>\n",
       "    </tr>\n",
       "  </thead>\n",
       "  <tbody>\n",
       "    <tr>\n",
       "      <th>0</th>\n",
       "      <td>1</td>\n",
       "      <td>2</td>\n",
       "      <td>2023-01-01</td>\n",
       "    </tr>\n",
       "    <tr>\n",
       "      <th>1</th>\n",
       "      <td>2</td>\n",
       "      <td>3</td>\n",
       "      <td>2023-01-02</td>\n",
       "    </tr>\n",
       "    <tr>\n",
       "      <th>2</th>\n",
       "      <td>3</td>\n",
       "      <td>4</td>\n",
       "      <td>2023-01-03</td>\n",
       "    </tr>\n",
       "  </tbody>\n",
       "</table>\n",
       "</div>"
      ],
      "text/plain": [
       "   a  b           d\n",
       "0  1  2  2023-01-01\n",
       "1  2  3  2023-01-02\n",
       "2  3  4  2023-01-03"
      ]
     },
     "execution_count": 9,
     "metadata": {},
     "output_type": "execute_result"
    }
   ],
   "source": [
    "pandas_df = pd.DataFrame({\n",
    "    'a':[1, 2, 3],\n",
    "    'b':[2, 3, 4],\n",
    "    'd':[date(2023, 1, 1), date(2023, 1, 2), date(2023, 1, 3)],\n",
    "})\n",
    "pandas_df.head()"
   ]
  },
  {
   "cell_type": "code",
   "execution_count": 10,
   "id": "5fb71816",
   "metadata": {},
   "outputs": [
    {
     "name": "stdout",
     "output_type": "stream",
     "text": [
      "+---+---+----------+\n",
      "|  a|  b|         d|\n",
      "+---+---+----------+\n",
      "|  1|  2|2023-01-01|\n",
      "|  2|  3|2023-01-02|\n",
      "|  3|  4|2023-01-03|\n",
      "+---+---+----------+\n",
      "\n"
     ]
    }
   ],
   "source": [
    "spark_df = spark.createDataFrame(pandas_df)\n",
    "spark_df.show()"
   ]
  },
  {
   "cell_type": "code",
   "execution_count": 11,
   "id": "ccfa64a8",
   "metadata": {},
   "outputs": [
    {
     "data": {
      "text/plain": [
       "['a', 'b', 'c', 'd', 'e']"
      ]
     },
     "execution_count": 11,
     "metadata": {},
     "output_type": "execute_result"
    }
   ],
   "source": [
    "df.columns"
   ]
  },
  {
   "cell_type": "code",
   "execution_count": 12,
   "id": "86e2ccdd",
   "metadata": {},
   "outputs": [
    {
     "name": "stdout",
     "output_type": "stream",
     "text": [
      "+---+---+----+\n",
      "|  a|  b|   c|\n",
      "+---+---+----+\n",
      "|  1|  2|str1|\n",
      "|  2|  3|str2|\n",
      "|  3|  4|str3|\n",
      "+---+---+----+\n",
      "\n"
     ]
    }
   ],
   "source": [
    "df.select('a', 'b', 'c').show()"
   ]
  },
  {
   "cell_type": "code",
   "execution_count": 14,
   "id": "c54a9c9b",
   "metadata": {},
   "outputs": [
    {
     "name": "stderr",
     "output_type": "stream",
     "text": [
      "\r",
      "[Stage 14:>                                                         (0 + 8) / 8]\r"
     ]
    },
    {
     "name": "stdout",
     "output_type": "stream",
     "text": [
      "+-------+---+---+----+\n",
      "|summary|  a|  b|   c|\n",
      "+-------+---+---+----+\n",
      "|  count|  3|  3|   3|\n",
      "|   mean|2.0|3.0|null|\n",
      "| stddev|1.0|1.0|null|\n",
      "|    min|  1|  2|str1|\n",
      "|    max|  3|  4|str3|\n",
      "+-------+---+---+----+\n",
      "\n"
     ]
    },
    {
     "name": "stderr",
     "output_type": "stream",
     "text": [
      "\r",
      "                                                                                \r"
     ]
    }
   ],
   "source": [
    "df.select('a', 'b', 'c').describe().show()"
   ]
  },
  {
   "cell_type": "code",
   "execution_count": 15,
   "id": "730a838e",
   "metadata": {},
   "outputs": [
    {
     "data": {
      "text/plain": [
       "[Row(a=1, b=2, c='str1', d=datetime.date(2023, 1, 1), e=datetime.datetime(2023, 1, 1, 12, 0)),\n",
       " Row(a=2, b=3, c='str2', d=datetime.date(2023, 1, 2), e=datetime.datetime(2023, 1, 2, 12, 0)),\n",
       " Row(a=3, b=4, c='str3', d=datetime.date(2023, 1, 3), e=datetime.datetime(2023, 1, 3, 12, 0))]"
      ]
     },
     "execution_count": 15,
     "metadata": {},
     "output_type": "execute_result"
    }
   ],
   "source": [
    "df.collect()"
   ]
  },
  {
   "cell_type": "code",
   "execution_count": 16,
   "id": "23464705",
   "metadata": {},
   "outputs": [
    {
     "name": "stderr",
     "output_type": "stream",
     "text": [
      "/media/zmwaris1/mydrive/apps/Apache_Spark/spark-3.4.0-bin-hadoop3/python/lib/pyspark.zip/pyspark/sql/pandas/conversion.py:251: FutureWarning: Passing unit-less datetime64 dtype to .astype is deprecated and will raise in a future version. Pass 'datetime64[ns]' instead\n",
      "  series = series.astype(t, copy=False)\n"
     ]
    },
    {
     "data": {
      "text/html": [
       "<div>\n",
       "<style scoped>\n",
       "    .dataframe tbody tr th:only-of-type {\n",
       "        vertical-align: middle;\n",
       "    }\n",
       "\n",
       "    .dataframe tbody tr th {\n",
       "        vertical-align: top;\n",
       "    }\n",
       "\n",
       "    .dataframe thead th {\n",
       "        text-align: right;\n",
       "    }\n",
       "</style>\n",
       "<table border=\"1\" class=\"dataframe\">\n",
       "  <thead>\n",
       "    <tr style=\"text-align: right;\">\n",
       "      <th></th>\n",
       "      <th>a</th>\n",
       "      <th>b</th>\n",
       "      <th>c</th>\n",
       "      <th>d</th>\n",
       "      <th>e</th>\n",
       "    </tr>\n",
       "  </thead>\n",
       "  <tbody>\n",
       "    <tr>\n",
       "      <th>0</th>\n",
       "      <td>1</td>\n",
       "      <td>2</td>\n",
       "      <td>str1</td>\n",
       "      <td>2023-01-01</td>\n",
       "      <td>2023-01-01 12:00:00</td>\n",
       "    </tr>\n",
       "    <tr>\n",
       "      <th>1</th>\n",
       "      <td>2</td>\n",
       "      <td>3</td>\n",
       "      <td>str2</td>\n",
       "      <td>2023-01-02</td>\n",
       "      <td>2023-01-02 12:00:00</td>\n",
       "    </tr>\n",
       "    <tr>\n",
       "      <th>2</th>\n",
       "      <td>3</td>\n",
       "      <td>4</td>\n",
       "      <td>str3</td>\n",
       "      <td>2023-01-03</td>\n",
       "      <td>2023-01-03 12:00:00</td>\n",
       "    </tr>\n",
       "  </tbody>\n",
       "</table>\n",
       "</div>"
      ],
      "text/plain": [
       "   a  b     c           d                   e\n",
       "0  1  2  str1  2023-01-01 2023-01-01 12:00:00\n",
       "1  2  3  str2  2023-01-02 2023-01-02 12:00:00\n",
       "2  3  4  str3  2023-01-03 2023-01-03 12:00:00"
      ]
     },
     "execution_count": 16,
     "metadata": {},
     "output_type": "execute_result"
    }
   ],
   "source": [
    "df.toPandas()"
   ]
  },
  {
   "cell_type": "code",
   "execution_count": 19,
   "id": "c137f590",
   "metadata": {},
   "outputs": [
    {
     "name": "stdout",
     "output_type": "stream",
     "text": [
      "+---+\n",
      "|  a|\n",
      "+---+\n",
      "|  1|\n",
      "|  2|\n",
      "|  3|\n",
      "+---+\n",
      "\n"
     ]
    }
   ],
   "source": [
    "df.select(df.a).show()"
   ]
  },
  {
   "cell_type": "code",
   "execution_count": 21,
   "id": "817beba4",
   "metadata": {},
   "outputs": [
    {
     "name": "stdout",
     "output_type": "stream",
     "text": [
      "+---+---+----+----------+-------------------+-------+\n",
      "|  a|  b|   c|         d|                  e|upper_c|\n",
      "+---+---+----+----------+-------------------+-------+\n",
      "|  1|  2|str1|2023-01-01|2023-01-01 12:00:00|   STR1|\n",
      "|  2|  3|str2|2023-01-02|2023-01-02 12:00:00|   STR2|\n",
      "|  3|  4|str3|2023-01-03|2023-01-03 12:00:00|   STR3|\n",
      "+---+---+----+----------+-------------------+-------+\n",
      "\n"
     ]
    }
   ],
   "source": [
    "from pyspark.sql.functions import upper\n",
    "df.withColumn('upper_c', upper(df.c)).show()"
   ]
  },
  {
   "cell_type": "code",
   "execution_count": 22,
   "id": "13207fa9",
   "metadata": {},
   "outputs": [
    {
     "name": "stdout",
     "output_type": "stream",
     "text": [
      "+---+---+----+----------+-------------------+\n",
      "|  a|  b|   c|         d|                  e|\n",
      "+---+---+----+----------+-------------------+\n",
      "|  1|  2|str1|2023-01-01|2023-01-01 12:00:00|\n",
      "+---+---+----+----------+-------------------+\n",
      "\n"
     ]
    }
   ],
   "source": [
    "df.filter(df.a==1).show()"
   ]
  },
  {
   "cell_type": "code",
   "execution_count": 23,
   "id": "46345a18",
   "metadata": {},
   "outputs": [
    {
     "name": "stdout",
     "output_type": "stream",
     "text": [
      "+-----+------+---+---+\n",
      "|color| fruit| v1| v2|\n",
      "+-----+------+---+---+\n",
      "|  red|banana|  1| 10|\n",
      "| blue|banana|  2| 20|\n",
      "|  red|carrot|  3| 30|\n",
      "| blue| grape|  4| 40|\n",
      "|  red|carrot|  5| 50|\n",
      "+-----+------+---+---+\n",
      "\n"
     ]
    }
   ],
   "source": [
    "df = spark.createDataFrame([\n",
    "    ['red', 'banana', 1, 10], ['blue', 'banana', 2, 20], ['red', 'carrot', 3, 30],\n",
    "    ['blue', 'grape', 4, 40], ['red', 'carrot', 5, 50]\n",
    "], schema=['color', 'fruit', 'v1', 'v2'])\n",
    "df.show()"
   ]
  },
  {
   "cell_type": "code",
   "execution_count": 24,
   "id": "a494abda",
   "metadata": {},
   "outputs": [
    {
     "name": "stdout",
     "output_type": "stream",
     "text": [
      "+-----+-------+-------+\n",
      "|color|avg(v1)|avg(v2)|\n",
      "+-----+-------+-------+\n",
      "|  red|    3.0|   30.0|\n",
      "| blue|    3.0|   30.0|\n",
      "+-----+-------+-------+\n",
      "\n"
     ]
    }
   ],
   "source": [
    "df.groupby('color').avg().show()"
   ]
  },
  {
   "cell_type": "code",
   "execution_count": 29,
   "id": "b82a0e2e",
   "metadata": {},
   "outputs": [],
   "source": [
    "dest = spark.read.csv('file:///media/zmwaris1/mydrive/databases and datasets/packt/dest.csv', header=True)"
   ]
  },
  {
   "cell_type": "code",
   "execution_count": 30,
   "id": "5e47a785",
   "metadata": {},
   "outputs": [
    {
     "name": "stdout",
     "output_type": "stream",
     "text": [
      "+-----+---------+\n",
      "|EmpNr|     Dest|\n",
      "+-----+---------+\n",
      "|    5|The Hague|\n",
      "|    3|Amsterdam|\n",
      "|    9|Rotterdam|\n",
      "+-----+---------+\n",
      "\n"
     ]
    }
   ],
   "source": [
    "dest.show()"
   ]
  },
  {
   "cell_type": "code",
   "execution_count": 31,
   "id": "8a998d18",
   "metadata": {},
   "outputs": [
    {
     "name": "stdout",
     "output_type": "stream",
     "text": [
      "+-----+------+\n",
      "|EmpNr|Amount|\n",
      "+-----+------+\n",
      "|    5|    10|\n",
      "|    9|     5|\n",
      "|    7|   2.5|\n",
      "+-----+------+\n",
      "\n"
     ]
    }
   ],
   "source": [
    "tips = spark.read.csv('file:///media/zmwaris1/mydrive/databases and datasets/packt/tips.csv', header=True)\n",
    "tips.show()"
   ]
  },
  {
   "cell_type": "code",
   "execution_count": 33,
   "id": "c4d906b4",
   "metadata": {},
   "outputs": [],
   "source": [
    "rdd1 = dest.rdd"
   ]
  },
  {
   "cell_type": "code",
   "execution_count": 36,
   "id": "deebaac4",
   "metadata": {},
   "outputs": [
    {
     "data": {
      "text/plain": [
       "[Row(EmpNr='5', Dest='The Hague'),\n",
       " Row(EmpNr='3', Dest='Amsterdam'),\n",
       " Row(EmpNr='9', Dest='Rotterdam')]"
      ]
     },
     "execution_count": 36,
     "metadata": {},
     "output_type": "execute_result"
    }
   ],
   "source": []
  },
  {
   "cell_type": "code",
   "execution_count": 37,
   "id": "6ba42460",
   "metadata": {},
   "outputs": [
    {
     "name": "stdout",
     "output_type": "stream",
     "text": [
      "+-----+---------+-----+------+\n",
      "|EmpNr|     Dest|EmpNr|Amount|\n",
      "+-----+---------+-----+------+\n",
      "|    5|The Hague|    5|    10|\n",
      "|    9|Rotterdam|    9|     5|\n",
      "+-----+---------+-----+------+\n",
      "\n"
     ]
    }
   ],
   "source": [
    "dest.join(tips, dest.EmpNr==tips.EmpNr, 'inner').show()"
   ]
  },
  {
   "cell_type": "code",
   "execution_count": 42,
   "id": "045c5117",
   "metadata": {},
   "outputs": [
    {
     "name": "stdout",
     "output_type": "stream",
     "text": [
      "+-----+---------+------+\n",
      "|EmpNr|     Dest|Amount|\n",
      "+-----+---------+------+\n",
      "|    3|Amsterdam|  null|\n",
      "|    5|The Hague|    10|\n",
      "|    7|     null|   2.5|\n",
      "|    9|Rotterdam|     5|\n",
      "+-----+---------+------+\n",
      "\n"
     ]
    }
   ],
   "source": [
    "dest.join(tips, 'EmpNr', 'outer').show()"
   ]
  },
  {
   "cell_type": "code",
   "execution_count": 44,
   "id": "7c055f9e",
   "metadata": {},
   "outputs": [
    {
     "name": "stdout",
     "output_type": "stream",
     "text": [
      "+-----+---------+------+\n",
      "|EmpNr|     Dest|Amount|\n",
      "+-----+---------+------+\n",
      "|    5|The Hague|    10|\n",
      "|    3|Amsterdam|  null|\n",
      "|    9|Rotterdam|     5|\n",
      "+-----+---------+------+\n",
      "\n"
     ]
    }
   ],
   "source": [
    "dest.join(tips, 'EmpNr', 'left').show()"
   ]
  },
  {
   "cell_type": "code",
   "execution_count": 45,
   "id": "aa941952",
   "metadata": {},
   "outputs": [
    {
     "name": "stdout",
     "output_type": "stream",
     "text": [
      "+-----+---------+------+\n",
      "|EmpNr|     Dest|Amount|\n",
      "+-----+---------+------+\n",
      "|    5|The Hague|    10|\n",
      "|    9|Rotterdam|     5|\n",
      "|    7|     null|   2.5|\n",
      "+-----+---------+------+\n",
      "\n"
     ]
    }
   ],
   "source": [
    "dest.join(tips, 'EmpNr', 'right').show()"
   ]
  },
  {
   "cell_type": "code",
   "execution_count": 48,
   "id": "12233544",
   "metadata": {},
   "outputs": [
    {
     "name": "stdout",
     "output_type": "stream",
     "text": [
      "+-----------+---------+---------+-----------------------------+-----------------------+------------------------------------------------------+---------------------------------------------+-------------------------------------------+-------------------------------+\n",
      "|    Country|CountryID|Continent|Adolescent fertility rate (%)|Adult literacy rate (%)|Gross national income per capita (PPP international $)|Net primary school enrolment ratio female (%)|Net primary school enrolment ratio male (%)|Population (in thousands) total|\n",
      "+-----------+---------+---------+-----------------------------+-----------------------+------------------------------------------------------+---------------------------------------------+-------------------------------------------+-------------------------------+\n",
      "|Afghanistan|        1|        1|                          151|                     28|                                                  null|                                         null|                                       null|                          26088|\n",
      "|    Albania|        2|        2|                           27|                   98.7|                                                  6000|                                           93|                                         94|                           3172|\n",
      "|    Algeria|        3|        3|                            6|                   69.9|                                                  5940|                                           94|                                         96|                          33351|\n",
      "|    Andorra|        4|        2|                         null|                   null|                                                  null|                                           83|                                         83|                             74|\n",
      "|     Angola|        5|        3|                          146|                   67.4|                                                  3890|                                           49|                                         51|                          16557|\n",
      "+-----------+---------+---------+-----------------------------+-----------------------+------------------------------------------------------+---------------------------------------------+-------------------------------------------+-------------------------------+\n",
      "only showing top 5 rows\n",
      "\n"
     ]
    }
   ],
   "source": [
    "df = spark.read.csv('file:///media/zmwaris1/mydrive/databases and datasets/packt/WHO_first9cols.csv', header=True)\n",
    "df.show(5)"
   ]
  },
  {
   "cell_type": "code",
   "execution_count": 52,
   "id": "f8e49378",
   "metadata": {},
   "outputs": [
    {
     "name": "stdout",
     "output_type": "stream",
     "text": [
      "+-------------------+\n",
      "|            Country|\n",
      "+-------------------+\n",
      "|        Afghanistan|\n",
      "|            Albania|\n",
      "|            Algeria|\n",
      "|            Andorra|\n",
      "|             Angola|\n",
      "|Antigua and Barbuda|\n",
      "|          Argentina|\n",
      "|            Armenia|\n",
      "|          Australia|\n",
      "|            Austria|\n",
      "|         Azerbaijan|\n",
      "|            Bahamas|\n",
      "|            Bahrain|\n",
      "|         Bangladesh|\n",
      "|           Barbados|\n",
      "|            Belarus|\n",
      "|            Belgium|\n",
      "|             Belize|\n",
      "|              Benin|\n",
      "|            Bermuda|\n",
      "+-------------------+\n",
      "only showing top 20 rows\n",
      "\n"
     ]
    },
    {
     "data": {
      "text/plain": [
       "pyspark.sql.dataframe.DataFrame"
      ]
     },
     "execution_count": 52,
     "metadata": {},
     "output_type": "execute_result"
    }
   ],
   "source": [
    "country = df.select('Country')\n",
    "country.show()\n",
    "type(country)"
   ]
  },
  {
   "cell_type": "code",
   "execution_count": 54,
   "id": "81a02e06",
   "metadata": {},
   "outputs": [
    {
     "data": {
      "text/plain": [
       "['Country',\n",
       " 'CountryID',\n",
       " 'Continent',\n",
       " 'Adolescent fertility rate (%)',\n",
       " 'Adult literacy rate (%)',\n",
       " 'Gross national income per capita (PPP international $)',\n",
       " 'Net primary school enrolment ratio female (%)',\n",
       " 'Net primary school enrolment ratio male (%)',\n",
       " 'Population (in thousands) total']"
      ]
     },
     "execution_count": 54,
     "metadata": {},
     "output_type": "execute_result"
    }
   ],
   "source": [
    "df.columns"
   ]
  },
  {
   "cell_type": "code",
   "execution_count": 56,
   "id": "c89a70ab",
   "metadata": {},
   "outputs": [
    {
     "data": {
      "text/plain": [
       "DataFrame[summary: string, Country: string, CountryID: string, Continent: string, Adolescent fertility rate (%): string, Adult literacy rate (%): string, Gross national income per capita (PPP international $): string, Net primary school enrolment ratio female (%): string, Net primary school enrolment ratio male (%): string, Population (in thousands) total: string]"
      ]
     },
     "execution_count": 56,
     "metadata": {},
     "output_type": "execute_result"
    }
   ],
   "source": [
    "df.summary()"
   ]
  },
  {
   "cell_type": "code",
   "execution_count": 57,
   "id": "650602cc",
   "metadata": {},
   "outputs": [
    {
     "data": {
      "text/plain": [
       "(202, 9)"
      ]
     },
     "execution_count": 57,
     "metadata": {},
     "output_type": "execute_result"
    }
   ],
   "source": [
    "df.toPandas().shape"
   ]
  },
  {
   "cell_type": "code",
   "execution_count": 59,
   "id": "5109abca",
   "metadata": {},
   "outputs": [
    {
     "data": {
      "text/plain": [
       "DataFrame[summary: string, Country: string, CountryID: string, Continent: string, Adolescent fertility rate (%): string, Adult literacy rate (%): string, Gross national income per capita (PPP international $): string, Net primary school enrolment ratio female (%): string, Net primary school enrolment ratio male (%): string, Population (in thousands) total: string]"
      ]
     },
     "execution_count": 59,
     "metadata": {},
     "output_type": "execute_result"
    }
   ],
   "source": [
    "df.describe()"
   ]
  },
  {
   "cell_type": "code",
   "execution_count": 60,
   "id": "286d2d2f",
   "metadata": {},
   "outputs": [
    {
     "data": {
      "text/plain": [
       "202"
      ]
     },
     "execution_count": 60,
     "metadata": {},
     "output_type": "execute_result"
    }
   ],
   "source": [
    "df.count()"
   ]
  },
  {
   "cell_type": "code",
   "execution_count": 66,
   "id": "18d144c5",
   "metadata": {},
   "outputs": [],
   "source": [
    "from pyspark.sql.functions import median, mean"
   ]
  },
  {
   "cell_type": "code",
   "execution_count": 68,
   "id": "230a5547",
   "metadata": {},
   "outputs": [
    {
     "ename": "IllegalArgumentException",
     "evalue": "requirement failed: Quantile calculation for column CountryID with data type StringType is not supported.",
     "output_type": "error",
     "traceback": [
      "\u001b[0;31m---------------------------------------------------------------------------\u001b[0m",
      "\u001b[0;31mIllegalArgumentException\u001b[0m                  Traceback (most recent call last)",
      "Cell \u001b[0;32mIn[68], line 1\u001b[0m\n\u001b[0;32m----> 1\u001b[0m df\u001b[38;5;241m.\u001b[39mstat\u001b[38;5;241m.\u001b[39mapproxQuantile(\u001b[38;5;124m'\u001b[39m\u001b[38;5;124mCountryID\u001b[39m\u001b[38;5;124m'\u001b[39m, [\u001b[38;5;241m0.5\u001b[39m], \u001b[38;5;241m0.01\u001b[39m)\n",
      "File \u001b[0;32m/media/zmwaris1/mydrive/apps/Apache_Spark/spark-3.4.0-bin-hadoop3/python/lib/pyspark.zip/pyspark/sql/dataframe.py:5441\u001b[0m, in \u001b[0;36mDataFrameStatFunctions.approxQuantile\u001b[0;34m(self, col, probabilities, relativeError)\u001b[0m\n\u001b[1;32m   5435\u001b[0m \u001b[38;5;28;01mdef\u001b[39;00m \u001b[38;5;21mapproxQuantile\u001b[39m(\n\u001b[1;32m   5436\u001b[0m     \u001b[38;5;28mself\u001b[39m,\n\u001b[1;32m   5437\u001b[0m     col: Union[\u001b[38;5;28mstr\u001b[39m, List[\u001b[38;5;28mstr\u001b[39m], Tuple[\u001b[38;5;28mstr\u001b[39m]],\n\u001b[1;32m   5438\u001b[0m     probabilities: Union[List[\u001b[38;5;28mfloat\u001b[39m], Tuple[\u001b[38;5;28mfloat\u001b[39m]],\n\u001b[1;32m   5439\u001b[0m     relativeError: \u001b[38;5;28mfloat\u001b[39m,\n\u001b[1;32m   5440\u001b[0m ) \u001b[38;5;241m-\u001b[39m\u001b[38;5;241m>\u001b[39m Union[List[\u001b[38;5;28mfloat\u001b[39m], List[List[\u001b[38;5;28mfloat\u001b[39m]]]:\n\u001b[0;32m-> 5441\u001b[0m     \u001b[38;5;28;01mreturn\u001b[39;00m \u001b[38;5;28mself\u001b[39m\u001b[38;5;241m.\u001b[39mdf\u001b[38;5;241m.\u001b[39mapproxQuantile(col, probabilities, relativeError)\n",
      "File \u001b[0;32m/media/zmwaris1/mydrive/apps/Apache_Spark/spark-3.4.0-bin-hadoop3/python/lib/pyspark.zip/pyspark/sql/dataframe.py:4476\u001b[0m, in \u001b[0;36mDataFrame.approxQuantile\u001b[0;34m(self, col, probabilities, relativeError)\u001b[0m\n\u001b[1;32m   4473\u001b[0m     \u001b[38;5;28;01mraise\u001b[39;00m \u001b[38;5;167;01mValueError\u001b[39;00m(\u001b[38;5;124m\"\u001b[39m\u001b[38;5;124mrelativeError should be >= 0.\u001b[39m\u001b[38;5;124m\"\u001b[39m)\n\u001b[1;32m   4474\u001b[0m relativeError \u001b[38;5;241m=\u001b[39m \u001b[38;5;28mfloat\u001b[39m(relativeError)\n\u001b[0;32m-> 4476\u001b[0m jaq \u001b[38;5;241m=\u001b[39m \u001b[38;5;28mself\u001b[39m\u001b[38;5;241m.\u001b[39m_jdf\u001b[38;5;241m.\u001b[39mstat()\u001b[38;5;241m.\u001b[39mapproxQuantile(col, probabilities, relativeError)\n\u001b[1;32m   4477\u001b[0m jaq_list \u001b[38;5;241m=\u001b[39m [\u001b[38;5;28mlist\u001b[39m(j) \u001b[38;5;28;01mfor\u001b[39;00m j \u001b[38;5;129;01min\u001b[39;00m jaq]\n\u001b[1;32m   4478\u001b[0m \u001b[38;5;28;01mreturn\u001b[39;00m jaq_list[\u001b[38;5;241m0\u001b[39m] \u001b[38;5;28;01mif\u001b[39;00m isStr \u001b[38;5;28;01melse\u001b[39;00m jaq_list\n",
      "File \u001b[0;32m/media/zmwaris1/mydrive/apps/Apache_Spark/spark-3.4.0-bin-hadoop3/python/lib/py4j-0.10.9.7-src.zip/py4j/java_gateway.py:1322\u001b[0m, in \u001b[0;36mJavaMember.__call__\u001b[0;34m(self, *args)\u001b[0m\n\u001b[1;32m   1316\u001b[0m command \u001b[38;5;241m=\u001b[39m proto\u001b[38;5;241m.\u001b[39mCALL_COMMAND_NAME \u001b[38;5;241m+\u001b[39m\\\n\u001b[1;32m   1317\u001b[0m     \u001b[38;5;28mself\u001b[39m\u001b[38;5;241m.\u001b[39mcommand_header \u001b[38;5;241m+\u001b[39m\\\n\u001b[1;32m   1318\u001b[0m     args_command \u001b[38;5;241m+\u001b[39m\\\n\u001b[1;32m   1319\u001b[0m     proto\u001b[38;5;241m.\u001b[39mEND_COMMAND_PART\n\u001b[1;32m   1321\u001b[0m answer \u001b[38;5;241m=\u001b[39m \u001b[38;5;28mself\u001b[39m\u001b[38;5;241m.\u001b[39mgateway_client\u001b[38;5;241m.\u001b[39msend_command(command)\n\u001b[0;32m-> 1322\u001b[0m return_value \u001b[38;5;241m=\u001b[39m get_return_value(\n\u001b[1;32m   1323\u001b[0m     answer, \u001b[38;5;28mself\u001b[39m\u001b[38;5;241m.\u001b[39mgateway_client, \u001b[38;5;28mself\u001b[39m\u001b[38;5;241m.\u001b[39mtarget_id, \u001b[38;5;28mself\u001b[39m\u001b[38;5;241m.\u001b[39mname)\n\u001b[1;32m   1325\u001b[0m \u001b[38;5;28;01mfor\u001b[39;00m temp_arg \u001b[38;5;129;01min\u001b[39;00m temp_args:\n\u001b[1;32m   1326\u001b[0m     \u001b[38;5;28;01mif\u001b[39;00m \u001b[38;5;28mhasattr\u001b[39m(temp_arg, \u001b[38;5;124m\"\u001b[39m\u001b[38;5;124m_detach\u001b[39m\u001b[38;5;124m\"\u001b[39m):\n",
      "File \u001b[0;32m/media/zmwaris1/mydrive/apps/Apache_Spark/spark-3.4.0-bin-hadoop3/python/lib/pyspark.zip/pyspark/errors/exceptions/captured.py:175\u001b[0m, in \u001b[0;36mcapture_sql_exception.<locals>.deco\u001b[0;34m(*a, **kw)\u001b[0m\n\u001b[1;32m    171\u001b[0m converted \u001b[38;5;241m=\u001b[39m convert_exception(e\u001b[38;5;241m.\u001b[39mjava_exception)\n\u001b[1;32m    172\u001b[0m \u001b[38;5;28;01mif\u001b[39;00m \u001b[38;5;129;01mnot\u001b[39;00m \u001b[38;5;28misinstance\u001b[39m(converted, UnknownException):\n\u001b[1;32m    173\u001b[0m     \u001b[38;5;66;03m# Hide where the exception came from that shows a non-Pythonic\u001b[39;00m\n\u001b[1;32m    174\u001b[0m     \u001b[38;5;66;03m# JVM exception message.\u001b[39;00m\n\u001b[0;32m--> 175\u001b[0m     \u001b[38;5;28;01mraise\u001b[39;00m converted \u001b[38;5;28;01mfrom\u001b[39;00m \u001b[38;5;28;01mNone\u001b[39;00m\n\u001b[1;32m    176\u001b[0m \u001b[38;5;28;01melse\u001b[39;00m:\n\u001b[1;32m    177\u001b[0m     \u001b[38;5;28;01mraise\u001b[39;00m\n",
      "\u001b[0;31mIllegalArgumentException\u001b[0m: requirement failed: Quantile calculation for column CountryID with data type StringType is not supported."
     ]
    }
   ],
   "source": [
    "df.stat.approxQuantile('CountryID', [0.5], 0.01)"
   ]
  },
  {
   "cell_type": "code",
   "execution_count": null,
   "id": "5aeae41e",
   "metadata": {},
   "outputs": [],
   "source": []
  }
 ],
 "metadata": {
  "kernelspec": {
   "display_name": "Python 3 (ipykernel)",
   "language": "python",
   "name": "python3"
  },
  "language_info": {
   "codemirror_mode": {
    "name": "ipython",
    "version": 3
   },
   "file_extension": ".py",
   "mimetype": "text/x-python",
   "name": "python",
   "nbconvert_exporter": "python",
   "pygments_lexer": "ipython3",
   "version": "3.11.5"
  },
  "toc": {
   "base_numbering": 1,
   "nav_menu": {},
   "number_sections": true,
   "sideBar": true,
   "skip_h1_title": false,
   "title_cell": "Table of Contents",
   "title_sidebar": "Contents",
   "toc_cell": false,
   "toc_position": {},
   "toc_section_display": true,
   "toc_window_display": false
  },
  "varInspector": {
   "cols": {
    "lenName": 16,
    "lenType": 16,
    "lenVar": 40
   },
   "kernels_config": {
    "python": {
     "delete_cmd_postfix": "",
     "delete_cmd_prefix": "del ",
     "library": "var_list.py",
     "varRefreshCmd": "print(var_dic_list())"
    },
    "r": {
     "delete_cmd_postfix": ") ",
     "delete_cmd_prefix": "rm(",
     "library": "var_list.r",
     "varRefreshCmd": "cat(var_dic_list()) "
    }
   },
   "types_to_exclude": [
    "module",
    "function",
    "builtin_function_or_method",
    "instance",
    "_Feature"
   ],
   "window_display": false
  }
 },
 "nbformat": 4,
 "nbformat_minor": 5
}
