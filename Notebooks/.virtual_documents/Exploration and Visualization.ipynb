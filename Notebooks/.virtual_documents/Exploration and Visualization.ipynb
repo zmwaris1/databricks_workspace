import matplotlib.pyplot as plt
import numpy as np
import pandas as pd
import seaborn as sns


a = np.linspace(0, 20)
print(a)


plt.plot(a, a+0.5, label='linear')
plt.show()


x = [1, 3, 5, 7, 9, 11]
y = [10, 25, 35, 33, 41, 59]

plt.plot(x, y, label='Series-1', color='blue')

x = [2,4,6,8,10,12]
y = [15,29,32,33,38,55]

plt.plot(x, y, label='Series-2', color='red')

plt.xlabel('X-label')
plt.ylabel('Y-label')

plt.title('Line Graphs')
plt.legend()
plt.show()


# Scatter Plot

x = [1, 3, 5, 7, 9, 11]
y = [10, 25, 35, 33, 41, 59]

plt.scatter(x, y, c='blue', marker='*', alpha=0.5)

plt.xlabel('X-label')
plt.ylabel('Y-label')
plt.title('Scatter plot')
plt.legend()

plt.show()


# Line plot

x = [1, 3, 5, 7, 9, 11]
y = [10, 25, 35, 33, 41, 59]

plt.plot(x, y)

plt.xlabel('X-label')
plt.ylabel('Y-label')
plt.title('Line plot')

plt.show()


# Pie plot

subjects = ['Maths', 'Phy', 'Chem', 'Eng']
scores = [64, 86, 90, 95]

plt.pie(scores,
       labels=subjects,
       colors=['r', 'g', 'b', 'y'],
       startangle=90,
       shadow=True,
       explode=(0,0.1,0,0),
       autopct='%1.1f%%')

plt.title('Pie plot')
plt.show()


# Bar plot

movie_ratings = [1, 2, 3, 4, 5]
number_ratings = [25, 45, 65, 56, 12]

plt.bar(movie_ratings, number_ratings, color='blue')

plt.xlabel('Movie Ratings')
plt.ylabel('Number of Ratings')
plt.title('Bar plot')

plt.show()


# Histogram plot

emp_age = [21, 32, 35, 45, 34, 24, 57, 60, 55, 48, 46]
bins = [20, 30, 40, 50, 60]

plt.hist(emp_age, bins, rwidth=0.6)
plt.xlabel('Employee Age')
plt.ylabel('Frequency')
plt.title('Histogram')

plt.show()


plt.figure(figsize=(10, 8))

countries = ['Qatar', 'Luxemburg', 'Singapore', 'Brunei', 'Ireland', 'Norway', 'UAE', 'Kuwait']
populations = [289242, 9487723, 6372822, 983853, 9387322, 7389222, 8734537, 89203723]
gdp_per_capita = [110011, 176768, 134344, 144876, 187654, 197465, 167483, 188943]

scaled_gdp_per_capita = np.divide(gdp_per_capita, 80)

plt.scatter(countries, populations, s=scaled_gdp_per_capita, c='red', cmap='Blues', edgecolors='Grey', alpha=0.5)

plt.xlabel('Countries')
plt.ylabel('Population')
plt.title('Bubble plot')
plt.xticks(rotation=45)

plt.show()


df = pd.DataFrame({
    'name':['Ajay', 'Abhi', 'Yming', 'Lisa', 'Sully'],
    'age': [24, 23, 45, 41, 34],
    'gender': ['M', 'M', 'F', 'F', 'M'],
    'country': ['India', 'Bangladesh', 'China', 'UK', 'Mexico'],
    'income': [2500, 30000, 34000, 25000, 15000]
})

df.plot(kind='scatter', x='age', y='income', color='red', title='Age vs Income')
plt.show()


df.plot(kind='bar', x='name', y='age', color='blue')
plt.title('Name and Age plot')
plt.show()


df = pd.DataFrame({
    'x': [12, 24, 34, 36, 45],
    'y': [45, 55, 67, 78, 80]
})

sns.lmplot(x='x', y='y', data=df)

plt.show()


df = pd.read_csv('/media/zmwaris/mydrive/databases and datasets/repositories.csv')
df.head()


df.shape


df.columns


sns.lmplot(x='Stars', y='Forks', data=df, fit_reg=False, hue='Has Issues')
plt.figure(figsize=(25, 6))
plt.show()


df2 = pd.read_csv('/media/zmwaris/mydrive/databases and datasets/archive/amazon_products.csv')


df2.head()


a = df2['isBestSeller'].value_counts()
b = df2['isBestSeller'].unique()


sns.barplot(x='isBestSeller', y='stars', data=df2)


sns.displot(df2.price)
plt.show()


sns.boxplot(data=df2[['price']])
plt.show()


sns.kdeplot(df2.price)
plt.show()


sns.violinplot(data=df2[['boughtInLastMonth']])
plt.show()


sns.countplot(x='stars', data=df2, hue='isBestSeller')
plt.show()


corr_mat = df2.corr(numeric_only=True)
corr_mat


sns.heatmap(corr_mat, annot=True)
plt.show()


sns.pairplot(data=df)
plt.show()


from bokeh.plotting import figure
from bokeh.plotting import output_notebook
from bokeh.plotting import show

fig = figure(min_width=500, height=400)
fig.circle(df['Stars'], df['Forks'], color='red', alpha=0.6)

show(fig)



